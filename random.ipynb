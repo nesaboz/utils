{
 "cells": [
  {
   "cell_type": "raw",
   "metadata": {},
   "source": [
    "---\n",
    "title: \"Random stuff\"\n",
    "format: \n",
    "  html:\n",
    "    code-fold: false\n",
    "jupyter: python3\n",
    "---"
   ]
  },
  {
   "cell_type": "markdown",
   "metadata": {},
   "source": [
    "# Unix\n"
   ]
  },
  {
   "cell_type": "markdown",
   "metadata": {},
   "source": [
    "To open any app from terminal (for example Pycharm):"
   ]
  },
  {
   "cell_type": "code",
   "execution_count": null,
   "metadata": {},
   "outputs": [],
   "source": [
    "open -na \"PyCharm.app\" ."
   ]
  },
  {
   "cell_type": "markdown",
   "metadata": {},
   "source": [
    "To open terminal from folder I added a shortcut `Control+Alt+Shift+T`\n",
    "To open a finder from terminal type: `open .`"
   ]
  },
  {
   "cell_type": "markdown",
   "metadata": {},
   "source": [
    "To [add folder to PATH](https://www.cyberciti.biz/faq/appleosx-bash-unix-change-set-path-environment-variable/) first verify it is not there: \\\n",
    "`echo \"$PATH\"`\\\n",
    "open a file:\\\n",
    "`nano ~/.bash_profile`\\\n",
    "add a line to the path, for example:\\\n",
    "`export PATH=$PATH:/usr/local/sbin/my_new_folder`\\\n",
    "verify it is there:\\\n",
    "`echo \"$PATH\"`"
   ]
  },
  {
   "cell_type": "markdown",
   "metadata": {},
   "source": [
    "To [count files in a folder](https://devconnected.com/how-to-count-files-in-directory-on-linux/) from terminal:\\\n",
    "`ls /etc | wc -l`\\\n",
    "and recursively: \\\n",
    "`find <directory> -type f | wc -l`"
   ]
  },
  {
   "cell_type": "markdown",
   "metadata": {},
   "source": [
    "To see hidden files on Mac: `Command + Shift + .`\n"
   ]
  },
  {
   "cell_type": "markdown",
   "metadata": {},
   "source": [
    "To [zip/unzip gz](https://www.cyberciti.biz/faq/unpacking-or-uncompressing-gz-files/):\n"
   ]
  },
  {
   "cell_type": "code",
   "execution_count": null,
   "metadata": {},
   "outputs": [],
   "source": [
    "zip -d filename.gz  # unzip filename\n",
    "gzip filename  # zip it back\n",
    "gzip -k filename  # to zip it and keep original"
   ]
  },
  {
   "cell_type": "markdown",
   "metadata": {},
   "source": [
    "\n",
    "# Azure\n"
   ]
  },
  {
   "cell_type": "markdown",
   "metadata": {},
   "source": [
    "Key is saved locally. See https://portal.azure.com/#home"
   ]
  },
  {
   "cell_type": "markdown",
   "metadata": {
    "tags": []
   },
   "source": [
    "# Jupyter notebook extensions"
   ]
  },
  {
   "cell_type": "code",
   "execution_count": null,
   "metadata": {},
   "outputs": [],
   "source": [
    "conda install -c conda-forge jupyter_contrib_nbextensions"
   ]
  },
  {
   "cell_type": "markdown",
   "metadata": {},
   "source": [
    "\n",
    "After installation and restart, there will be nbextensions tab, two relevant extensions are collapsable headings and table of context 2 (toc2).\n",
    "\n"
   ]
  },
  {
   "cell_type": "markdown",
   "metadata": {},
   "source": [
    "To see parameters in jupiter notebook: `SHIFT + TAB`\n",
    "For help use ? before or after the command.\n",
    "For autocompletion: `TAB + TAB`\n"
   ]
  },
  {
   "cell_type": "markdown",
   "metadata": {},
   "source": [
    "# Fast.ai"
   ]
  },
  {
   "cell_type": "markdown",
   "metadata": {},
   "source": [
    "To install fastai project on any linux machine (more [here](https://github.com/fastai/fastsetup), also see [docs](https://docs.fast.ai/)):\n"
   ]
  },
  {
   "cell_type": "code",
   "execution_count": null,
   "metadata": {},
   "outputs": [],
   "source": [
    "sudo apt update && sudo apt -y install git\n",
    "git clone https://github.com/fastai/fastsetup.git\n",
    "cd fastsetup\n",
    "sudo ./ubuntu-initial.sh"
   ]
  },
  {
   "cell_type": "markdown",
   "metadata": {},
   "source": [
    "wait a couple of minutes for reboot, then ssh back in:"
   ]
  },
  {
   "cell_type": "code",
   "execution_count": null,
   "metadata": {},
   "outputs": [],
   "source": [
    "mamba install -c fastchan fastai\n",
    "conda install -c fastchan nbdev\n",
    "conda install -c anaconda pillow\n",
    "conda install jupyter\n",
    "pip install gradio"
   ]
  },
  {
   "cell_type": "markdown",
   "metadata": {},
   "source": [
    "# Web\n"
   ]
  },
  {
   "cell_type": "markdown",
   "metadata": {},
   "source": [
    "To download a file from URL:"
   ]
  },
  {
   "cell_type": "code",
   "execution_count": 1,
   "metadata": {},
   "outputs": [
    {
     "name": "stdout",
     "output_type": "stream",
     "text": [
      "/bin/bash: -c: line 0: syntax error near unexpected token `newline'\n",
      "/bin/bash: -c: line 0: `curl -OL <URL>'\n"
     ]
    }
   ],
   "source": [
    "!curl -OL <URL>"
   ]
  },
  {
   "cell_type": "markdown",
   "metadata": {},
   "source": [
    "# Hugging space"
   ]
  },
  {
   "cell_type": "markdown",
   "metadata": {},
   "source": [
    "Couldn't upload large files without git-lfs (lfs stands for [large file storage](https://stackoverflow.com/questions/67395259/git-clone-git-lfs-filter-process-git-lfs-command-not-found))"
   ]
  },
  {
   "cell_type": "code",
   "execution_count": null,
   "metadata": {},
   "outputs": [],
   "source": [
    "brew install git-lfs\n",
    "git lfs install"
   ]
  },
  {
   "cell_type": "markdown",
   "metadata": {},
   "source": [
    "Hugging space doesn't allow binary files in repo, so the file extensions needs to be added to .gitattributes.\n",
    "\n",
    "We must have `requirements.txt` file in the hugging space repo (from here:\n",
    "\"If you need other Python packages to run your app, add them to a requirements.txt file at the root of the repository. The Spaces runtime engine will create a custom environment on-the-fly.\")"
   ]
  },
  {
   "cell_type": "markdown",
   "metadata": {},
   "source": [
    "# Python"
   ]
  },
  {
   "cell_type": "code",
   "execution_count": 2,
   "metadata": {},
   "outputs": [],
   "source": [
    "from functools import partial"
   ]
  },
  {
   "cell_type": "markdown",
   "metadata": {},
   "source": [
    "# Quatro"
   ]
  },
  {
   "cell_type": "code",
   "execution_count": null,
   "metadata": {},
   "outputs": [],
   "source": [
    "quarto preview hello.ipynb\n",
    "quarto render hello.ipynb --to html"
   ]
  },
  {
   "cell_type": "markdown",
   "metadata": {},
   "source": [
    "To refresh Chrome: `Command + Shift + R`"
   ]
  },
  {
   "cell_type": "code",
   "execution_count": null,
   "metadata": {},
   "outputs": [],
   "source": []
  }
 ],
 "metadata": {
  "kernelspec": {
   "display_name": "utils",
   "language": "python",
   "name": "utils"
  },
  "language_info": {
   "codemirror_mode": {
    "name": "ipython",
    "version": 3
   },
   "file_extension": ".py",
   "mimetype": "text/x-python",
   "name": "python",
   "nbconvert_exporter": "python",
   "pygments_lexer": "ipython3",
   "version": "3.10.6"
  }
 },
 "nbformat": 4,
 "nbformat_minor": 4
}
