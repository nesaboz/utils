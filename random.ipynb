{
 "cells": [
  {
   "cell_type": "markdown",
   "metadata": {},
   "source": [
    "# Unix\n",
    "\n"
   ]
  },
  {
   "cell_type": "markdown",
   "metadata": {},
   "source": [
    "To open Pycharm from terminal:"
   ]
  },
  {
   "cell_type": "code",
   "execution_count": null,
   "outputs": [],
   "source": [
    "open -na \"PyCharm.app\" ."
   ],
   "metadata": {
    "collapsed": false,
    "pycharm": {
     "is_executing": true
    }
   }
  },
  {
   "cell_type": "markdown",
   "source": [
    "To open terminal from folder I added a shortcut Control+Alt+Shift+T\n",
    "To open a finder from terminal type: `open .`\n",
    "\n",
    "\n",
    "To add folder to PATH:\n",
    "https://www.cyberciti.biz/faq/appleosx-bash-unix-change-set-path-environment-variable/\n",
    "\n",
    "To count files in a folder from terminal:\n",
    "ls /etc | wc -l\n",
    "\n",
    "and recursively:\n",
    "$ find <directory> -type f | wc -l\n",
    "\n",
    "(link: https://devconnected.com/how-to-count-files-in-directory-on-linux/)"
   ],
   "metadata": {
    "collapsed": false
   }
  },
  {
   "cell_type": "markdown",
   "source": [
    "To see hidden files on Mac: `Command + Shift + .`\n"
   ],
   "metadata": {
    "collapsed": false
   }
  },
  {
   "cell_type": "markdown",
   "source": [
    "To [zip/unzip gz](https://www.cyberciti.biz/faq/unpacking-or-uncompressing-gz-files/):\n"
   ],
   "metadata": {
    "collapsed": false
   }
  },
  {
   "cell_type": "code",
   "execution_count": null,
   "outputs": [],
   "source": [
    "zip -d filename.gz  # unzip filename\n",
    "gzip filename  # zip it back\n",
    "gzip -k filename  # to zip it and keep original"
   ],
   "metadata": {
    "collapsed": false
   }
  },
  {
   "cell_type": "markdown",
   "metadata": {},
   "source": [
    "\n",
    "# Azure\n"
   ]
  },
  {
   "cell_type": "markdown",
   "metadata": {},
   "source": [
    "AZURE key '1f327869ca9043658d0f8182fab95202'\n",
    "https://portal.azure.com/#home"
   ]
  },
  {
   "cell_type": "markdown",
   "source": [
    "# Jupyter notebook"
   ],
   "metadata": {
    "collapsed": false
   }
  },
  {
   "cell_type": "code",
   "execution_count": null,
   "outputs": [],
   "source": [
    "conda install -c conda-forge jupyter_contrib_nbextensions"
   ],
   "metadata": {
    "collapsed": false
   }
  },
  {
   "cell_type": "markdown",
   "source": [
    "\n",
    "After installation and restart, there will be nbextensions tab, two relevant extensions are collapsable headings and table of context 2 (toc2).\n",
    "\n"
   ],
   "metadata": {
    "collapsed": false
   }
  },
  {
   "cell_type": "markdown",
   "source": [
    "To manipulate jupyter kernels (Note: I did experience an issue with `sys.path` was different in python env and jupyter kernel. The solution that worked is [here](https://stackoverflow.com/questions/34389029/cannot-import-modules-in-jupyter-notebook-wrong-sys-path), in short one has to compare the sys.executable for both the environment AND jupyter kernel (this one is listed using `jupyter kernelspec list` and looking into relevant `kernel.json` file)\n",
    "a must-read that I still need to go over is here [here](https://stackoverflow.com/questions/897792/where-is-pythons-sys-path-initialized-from)."
   ],
   "metadata": {
    "collapsed": false
   }
  },
  {
   "cell_type": "code",
   "execution_count": null,
   "outputs": [],
   "source": [
    "jupyter kernelspec list  # list kernels  note it is kernelspec not just kernel\n",
    "jupyter kernelspec remove <kernel-name>   # remove kernel\n",
    "ipython kernel install --name <local-venv> --user"
   ],
   "metadata": {
    "collapsed": false
   }
  },
  {
   "cell_type": "markdown",
   "source": [
    "To see parameters in jupiter notebook: `SHIFT + TAB`\n",
    "For help use ? before or after the command.\n",
    "For autocompletion: `TAB + TAB`\n"
   ],
   "metadata": {
    "collapsed": false
   }
  },
  {
   "cell_type": "markdown",
   "source": [
    "To show images in markdown cells:\n",
    "`<img alt=\"Session rate\" width=\"500\" caption=\"Session_rate\" src=\"images/session_rate.jpg\" id=\"session_rate\"/>`\n",
    "or shortest:\n",
    "`<img src=\"images/linear_regression_model.jpg\"/>`"
   ],
   "metadata": {
    "collapsed": false
   }
  },
  {
   "cell_type": "markdown",
   "source": [
    "to reference the figure use id tag like this: [clicking here will take you to the place with that id](#session_rate)"
   ],
   "metadata": {
    "collapsed": false
   }
  },
  {
   "cell_type": "markdown",
   "source": [
    "See this [great markdown guide!](https://medium.com/analytics-vidhya/the-ultimate-markdown-guide-for-jupyter-notebook-d5e5abf728fd) for reference links."
   ],
   "metadata": {
    "collapsed": false
   }
  },
  {
   "cell_type": "markdown",
   "source": [
    "In Google Colab we have to replace the reference by it's github link:\n",
    "for example:\n",
    "~~~text\n",
    "<img src=\"https://raw.githubusercontent.com/nesaboz/pytorched/8c41b15364234c31af4f6222b2251954131b4a94/nbs/images/transfer_learning_layer_replacement.jpg\"/>\n",
    "~~~\n",
    "\n",
    "<img src=\"https://raw.githubusercontent.com/nesaboz/pytorched/8c41b15364234c31af4f6222b2251954131b4a94/nbs/images/transfer_learning_layer_replacement.jpg\"/>\n"
   ],
   "metadata": {
    "collapsed": false
   }
  },
  {
   "cell_type": "markdown",
   "source": [
    "For raw text use\n",
    "~~~text\n",
    "~~~text\n",
    "~~~\n",
    "and close with <~~~> without <> (that's the only one text that can't be displayed I guess!)"
   ],
   "metadata": {
    "collapsed": false
   }
  },
  {
   "cell_type": "markdown",
   "source": [
    "### Magic commands"
   ],
   "metadata": {
    "collapsed": false
   }
  },
  {
   "cell_type": "code",
   "execution_count": null,
   "outputs": [],
   "source": [
    "%load_ext autoreload\n",
    "%autoreload 2"
   ],
   "metadata": {
    "collapsed": false
   }
  },
  {
   "cell_type": "markdown",
   "metadata": {},
   "source": [
    "# Fast.ai"
   ]
  },
  {
   "cell_type": "markdown",
   "metadata": {},
   "source": [
    "To install fastai project on any linux machine (more [here](https://github.com/fastai/fastsetup), also see [docs](https://docs.fast.ai/)):\n"
   ]
  },
  {
   "cell_type": "code",
   "execution_count": null,
   "metadata": {},
   "outputs": [],
   "source": [
    "sudo apt update && sudo apt -y install git\n",
    "git clone https://github.com/fastai/fastsetup.git\n",
    "cd fastsetup\n",
    "sudo ./ubuntu-initial.sh"
   ]
  },
  {
   "cell_type": "markdown",
   "metadata": {},
   "source": [
    "wait a couple of minutes for reboot, then ssh back in:"
   ]
  },
  {
   "cell_type": "code",
   "execution_count": null,
   "metadata": {},
   "outputs": [],
   "source": [
    "mamba install -c fastchan fastai\n",
    "conda install -c fastchan nbdev\n",
    "conda install -c anaconda pillow\n",
    "conda install jupyter\n",
    "pip install gradio"
   ]
  },
  {
   "cell_type": "markdown",
   "metadata": {},
   "source": [
    "# Web\n"
   ]
  },
  {
   "cell_type": "markdown",
   "metadata": {},
   "source": [
    "To download a file from URL:"
   ]
  },
  {
   "cell_type": "code",
   "execution_count": null,
   "metadata": {},
   "outputs": [],
   "source": [
    "!curl -OL <URL>"
   ]
  },
  {
   "cell_type": "markdown",
   "metadata": {},
   "source": [
    "# Hugging space"
   ]
  },
  {
   "cell_type": "markdown",
   "metadata": {},
   "source": [
    "Couldn't upload large files without git-lfs (lfs stands for [large file storage](https://stackoverflow.com/questions/67395259/git-clone-git-lfs-filter-process-git-lfs-command-not-found))"
   ]
  },
  {
   "cell_type": "code",
   "execution_count": null,
   "metadata": {},
   "outputs": [],
   "source": [
    "brew install git-lfs\n",
    "git lfs install"
   ]
  },
  {
   "cell_type": "markdown",
   "metadata": {},
   "source": [
    "Hugging space doesn't allow binary files in repo, so the file extensions needs to be added to .gitattributes.\n",
    "\n",
    "We must have requirements.txt file in the hugging space repo (from here:\n",
    "\"If you need other Python packages to run your app, add them to a requirements.txt file at the root of the repository. The Spaces runtime engine will create a custom environment on-the-fly.\")"
   ]
  },
  {
   "cell_type": "markdown",
   "source": [
    "# Conda"
   ],
   "metadata": {
    "collapsed": false
   }
  },
  {
   "cell_type": "code",
   "execution_count": null,
   "outputs": [],
   "source": [
    "yes | conda create -n $repo_name python=$python_ver  # notice there is no keyword env\n",
    "conda env list\n",
    "conda env remove -n ENV_NAME\n",
    "conda env export > env.yml\n",
    "conda env create -n ENVNAME --file ENV.yml\n"
   ],
   "metadata": {
    "collapsed": false
   }
  },
  {
   "cell_type": "markdown",
   "source": [],
   "metadata": {
    "collapsed": false
   }
  },
  {
   "cell_type": "code",
   "execution_count": null,
   "outputs": [],
   "source": [
    "pip3 install torch torchvision\n",
    "pip install tensorboard\n"
   ],
   "metadata": {
    "collapsed": false
   }
  },
  {
   "cell_type": "markdown",
   "source": [
    "# /bin/zsh"
   ],
   "metadata": {
    "collapsed": false
   }
  },
  {
   "cell_type": "markdown",
   "source": [
    "There are many shells one can use, Mac default is `zsh` so I set up PyCharm to use it as well in the Preferences\\Tools\\Terminal\\Shell Path\n",
    "One also probably needs to install [Homebrew](https://brew.sh/) (Package Manager for macOS, it might have some unique packages that pip doesn't have)."
   ],
   "metadata": {
    "collapsed": false
   }
  },
  {
   "cell_type": "code",
   "execution_count": null,
   "outputs": [],
   "source": [
    "echo \"${PATH//:/$'\\n'}\"\n",
    "!ls '/Users/nenad.bozinovic/work/Frame/elasticity_logs' | head -4\n",
    "# bash comment is the same as python"
   ],
   "metadata": {
    "collapsed": false
   }
  },
  {
   "cell_type": "code",
   "execution_count": null,
   "outputs": [],
   "source": [
    "brew install wget\n",
    "wget https://your.link.png"
   ],
   "metadata": {
    "collapsed": false
   }
  },
  {
   "cell_type": "markdown",
   "source": [
    "When using `[]` with `pip` it is better to use `\"\"` to avoid shell parsing for example:"
   ],
   "metadata": {
    "collapsed": false
   }
  },
  {
   "cell_type": "code",
   "execution_count": null,
   "outputs": [],
   "source": [
    "pip install \"mpl_interactions[jupyter]\""
   ],
   "metadata": {
    "collapsed": false,
    "pycharm": {
     "is_executing": true
    }
   }
  },
  {
   "cell_type": "markdown",
   "source": [
    "\n",
    "# nbdev"
   ],
   "metadata": {
    "collapsed": false
   }
  },
  {
   "cell_type": "markdown",
   "source": [
    "`nbdev_help`  # this list all commands\n",
    "`nbdev_export`  # exports everything into a filename defined in the top using `#| default_exp <filename>`\n",
    "\n",
    "Tutorial says we might need to also run the following after export once: `!pip install -e .`\n",
    " (-e installs a project in editable mode (i.e. setuptools \"develop mode\") from a local project path (.))\n",
    "\n",
    "`nbdev_prepare`: use it before commit and push\n",
    "`nbdev_update`: propagates changes from python to jupyter\n",
    "`nbdev_preview`: to see pages** and this one is live"
   ],
   "metadata": {
    "collapsed": false
   }
  },
  {
   "cell_type": "markdown",
   "source": [
    "One can also export from jupyter notebook:"
   ],
   "metadata": {
    "collapsed": false
   }
  },
  {
   "cell_type": "code",
   "execution_count": null,
   "outputs": [],
   "source": [
    "from nbdev import nbdev_export\n",
    "nbdev_export()"
   ],
   "metadata": {
    "collapsed": false
   }
  },
  {
   "cell_type": "markdown",
   "source": [
    "# Platform"
   ],
   "metadata": {
    "collapsed": false
   }
  },
  {
   "cell_type": "code",
   "execution_count": null,
   "outputs": [],
   "source": [
    "import platform  # usage example: if 'macOS' in platform.platform():"
   ],
   "metadata": {
    "collapsed": false
   }
  },
  {
   "cell_type": "markdown",
   "source": [
    "# Vim"
   ],
   "metadata": {
    "collapsed": false
   }
  },
  {
   "cell_type": "markdown",
   "source": [
    "i: insert mode\n",
    ":w - Saves the file you are working on\n",
    ":w [filename] - Allows you to save your file with the name you've defined\n",
    ":wq - Save your file and close Vim\n",
    ":q! - Quit without first saving the file you were working on"
   ],
   "metadata": {
    "collapsed": false
   }
  },
  {
   "cell_type": "markdown",
   "source": [
    "# RegEx"
   ],
   "metadata": {
    "collapsed": false
   }
  },
  {
   "cell_type": "markdown",
   "source": [
    "Suppose we need to extract `row` and `col` from a string:"
   ],
   "metadata": {
    "collapsed": false
   }
  },
  {
   "cell_type": "code",
   "execution_count": 4,
   "outputs": [],
   "source": [
    "import re\n",
    "some_string = 'R1C2_row62_col24.png'\n",
    "m = re.match(r\".*row(\\d+)_col(\\d+).*.png\", some_string)\n",
    "row = int(m.group(1))\n",
    "col = int(m.group(2))\n",
    "assert row == 62\n",
    "assert col == 24"
   ],
   "metadata": {
    "collapsed": false
   }
  },
  {
   "cell_type": "markdown",
   "source": [
    "Test here [https://regex101.com/](https://regex101.com/)\n",
    "\n",
    "`.` any character;\n",
    "`\\d` only numbers (if we need decimal point user a backslash (\\.)\n",
    "`?` Zero or one character\n",
    "`+` One or many;\n",
    "`*` Any character count\n",
    "\n",
    "Good [tutorial](https://medium.com/factory-mind/regex-tutorial-a-simple-cheatsheet-by-examples-649dc1c3f285)."
   ],
   "metadata": {
    "collapsed": false
   }
  },
  {
   "cell_type": "markdown",
   "source": [
    "# PyTest"
   ],
   "metadata": {
    "collapsed": false
   }
  },
  {
   "cell_type": "markdown",
   "source": [
    "`pip install pytest`\n",
    "[docs](https://docs.pytest.org/en/7.1.x/example/pythoncollection.html)\n",
    "You will need pytest.ini in the root:\n",
    "```\n",
    "[pytest]\n",
    "pythonpath = ''\n",
    "```\n",
    "`pythonpath` adds a path to `sys.path` relative to the root.\n",
    "\n",
    "One can simply discover and run all tests by running in terminal:\n",
    "`pytest`\n"
   ],
   "metadata": {
    "collapsed": false
   }
  }
 ],
 "metadata": {
  "kernelspec": {
   "display_name": "utils",
   "language": "python",
   "name": "utils"
  },
  "language_info": {
   "codemirror_mode": {
    "name": "ipython",
    "version": 3
   },
   "file_extension": ".py",
   "mimetype": "text/x-python",
   "name": "python",
   "nbconvert_exporter": "python",
   "pygments_lexer": "ipython3",
   "version": "3.10.6"
  }
 },
 "nbformat": 4,
 "nbformat_minor": 1
}
